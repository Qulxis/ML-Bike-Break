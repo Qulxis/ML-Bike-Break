{
 "cells": [
  {
   "cell_type": "code",
   "execution_count": 2,
   "metadata": {},
   "outputs": [],
   "source": [
    "import numpy as np\n",
    "import matplotlib.pyplot as plt\n",
    "import pandas as pd\n",
    "import tensorflow as tf"
   ]
  },
  {
   "cell_type": "code",
   "execution_count": 98,
   "metadata": {},
   "outputs": [],
   "source": [
    "sample_rate = 0.025 \n",
    "data_len = int(3 / sample_rate) # To get 3 seconds of data, grab this many points."
   ]
  },
  {
   "cell_type": "code",
   "execution_count": 75,
   "metadata": {},
   "outputs": [],
   "source": [
    "df = pd.read_csv('Data/addtl_train.csv')\n",
    "\n",
    "df_more = pd.read_csv('Data/addtl_train.csv')"
   ]
  },
  {
   "cell_type": "code",
   "execution_count": 99,
   "metadata": {},
   "outputs": [],
   "source": [
    "x_fil = []\n",
    "button_state = []\n",
    "\n",
    "for index, row in df.iterrows():\n",
    "    x_fil.append(row[\"x_kalhman_filter\"])\n",
    "    button_state.append(row[\"binary break label\"])\n",
    "\n",
    "for index,row in df_more.iterrows():\n",
    "    x_fil.append(row[\"x_kalhman_filter\"])\n",
    "    button_state.append(row[\"binary break label\"])"
   ]
  },
  {
   "cell_type": "code",
   "execution_count": 100,
   "metadata": {},
   "outputs": [
    {
     "name": "stdout",
     "output_type": "stream",
     "text": [
      "(6878,)\n",
      "(6878,)\n"
     ]
    }
   ],
   "source": [
    "print(np.shape(x_fil))\n",
    "print(np.shape(button_state))"
   ]
  },
  {
   "cell_type": "code",
   "execution_count": 101,
   "metadata": {},
   "outputs": [],
   "source": [
    "X = []\n",
    "y = []\n",
    "for i in range(120, len(x_fil)):\n",
    "    X.append(x_fil[i - data_len:i])\n",
    "    y.append(button_state[i])"
   ]
  },
  {
   "cell_type": "code",
   "execution_count": 102,
   "metadata": {},
   "outputs": [
    {
     "name": "stdout",
     "output_type": "stream",
     "text": [
      "(6758, 120)\n",
      "(6758,)\n",
      "(6758, 120, 1)\n"
     ]
    }
   ],
   "source": [
    "print(np.shape(X))\n",
    "print(np.shape(y))\n",
    "\n",
    "input_shape = np.shape(X[0])\n",
    "\n",
    "# print(input_shape)\n",
    "\n",
    "X = tf.expand_dims(X, axis = -1)\n",
    "\n",
    "print(np.shape(X))"
   ]
  },
  {
   "cell_type": "code",
   "execution_count": 103,
   "metadata": {},
   "outputs": [],
   "source": [
    "X = np.asarray(X)\n",
    "y = np.asarray(y)"
   ]
  },
  {
   "cell_type": "code",
   "execution_count": 104,
   "metadata": {},
   "outputs": [
    {
     "name": "stdout",
     "output_type": "stream",
     "text": [
      "Epoch 1/100\n",
      "106/106 [==============================] - 0s 2ms/step - loss: 0.4299 - accuracy: 0.8522\n",
      "Epoch 2/100\n",
      "106/106 [==============================] - 0s 1ms/step - loss: 0.3730 - accuracy: 0.8537\n",
      "Epoch 3/100\n",
      "106/106 [==============================] - 0s 1ms/step - loss: 0.3517 - accuracy: 0.8537\n",
      "Epoch 4/100\n",
      "106/106 [==============================] - 0s 1ms/step - loss: 0.3335 - accuracy: 0.8537\n",
      "Epoch 5/100\n",
      "106/106 [==============================] - 0s 1ms/step - loss: 0.3177 - accuracy: 0.8537\n",
      "Epoch 6/100\n",
      "106/106 [==============================] - 0s 1ms/step - loss: 0.3061 - accuracy: 0.8542\n",
      "Epoch 7/100\n",
      "106/106 [==============================] - 0s 1ms/step - loss: 0.2967 - accuracy: 0.8646\n",
      "Epoch 8/100\n",
      "106/106 [==============================] - 0s 1ms/step - loss: 0.2889 - accuracy: 0.8686\n",
      "Epoch 9/100\n",
      "106/106 [==============================] - 0s 1ms/step - loss: 0.2833 - accuracy: 0.8775\n",
      "Epoch 10/100\n",
      "106/106 [==============================] - 0s 1ms/step - loss: 0.2778 - accuracy: 0.8822\n",
      "Epoch 11/100\n",
      "106/106 [==============================] - 0s 1ms/step - loss: 0.2769 - accuracy: 0.8856\n",
      "Epoch 12/100\n",
      "106/106 [==============================] - 0s 1ms/step - loss: 0.2691 - accuracy: 0.8895\n",
      "Epoch 13/100\n",
      "106/106 [==============================] - 0s 1ms/step - loss: 0.2648 - accuracy: 0.8915\n",
      "Epoch 14/100\n",
      "106/106 [==============================] - 0s 2ms/step - loss: 0.2614 - accuracy: 0.8967\n",
      "Epoch 15/100\n",
      "106/106 [==============================] - 0s 1ms/step - loss: 0.2601 - accuracy: 0.8969\n",
      "Epoch 16/100\n",
      "106/106 [==============================] - 0s 1ms/step - loss: 0.2543 - accuracy: 0.8989\n",
      "Epoch 17/100\n",
      "106/106 [==============================] - 0s 1ms/step - loss: 0.2507 - accuracy: 0.9019\n",
      "Epoch 18/100\n",
      "106/106 [==============================] - 0s 1ms/step - loss: 0.2473 - accuracy: 0.9031\n",
      "Epoch 19/100\n",
      "106/106 [==============================] - 0s 1ms/step - loss: 0.2446 - accuracy: 0.9054\n",
      "Epoch 20/100\n",
      "106/106 [==============================] - 0s 1ms/step - loss: 0.2406 - accuracy: 0.9060\n",
      "Epoch 21/100\n",
      "106/106 [==============================] - 0s 1ms/step - loss: 0.2395 - accuracy: 0.9063\n",
      "Epoch 22/100\n",
      "106/106 [==============================] - 0s 1ms/step - loss: 0.2338 - accuracy: 0.9084\n",
      "Epoch 23/100\n",
      "106/106 [==============================] - 0s 1ms/step - loss: 0.2320 - accuracy: 0.9068\n",
      "Epoch 24/100\n",
      "106/106 [==============================] - 0s 1ms/step - loss: 0.2287 - accuracy: 0.9109\n",
      "Epoch 25/100\n",
      "106/106 [==============================] - 0s 1ms/step - loss: 0.2278 - accuracy: 0.9096\n",
      "Epoch 26/100\n",
      "106/106 [==============================] - 0s 1ms/step - loss: 0.2225 - accuracy: 0.9140\n",
      "Epoch 27/100\n",
      "106/106 [==============================] - 0s 1ms/step - loss: 0.2211 - accuracy: 0.9128\n",
      "Epoch 28/100\n",
      "106/106 [==============================] - 0s 1ms/step - loss: 0.2190 - accuracy: 0.9124\n",
      "Epoch 29/100\n",
      "106/106 [==============================] - 0s 1ms/step - loss: 0.2168 - accuracy: 0.9140\n",
      "Epoch 30/100\n",
      "106/106 [==============================] - 0s 1ms/step - loss: 0.2152 - accuracy: 0.9154\n",
      "Epoch 31/100\n",
      "106/106 [==============================] - 0s 1ms/step - loss: 0.2127 - accuracy: 0.9131\n",
      "Epoch 32/100\n",
      "106/106 [==============================] - 0s 1ms/step - loss: 0.2121 - accuracy: 0.9161\n",
      "Epoch 33/100\n",
      "106/106 [==============================] - 0s 1ms/step - loss: 0.2081 - accuracy: 0.9170\n",
      "Epoch 34/100\n",
      "106/106 [==============================] - 0s 1ms/step - loss: 0.2070 - accuracy: 0.9171\n",
      "Epoch 35/100\n",
      "106/106 [==============================] - 0s 1ms/step - loss: 0.2029 - accuracy: 0.9197\n",
      "Epoch 36/100\n",
      "106/106 [==============================] - 0s 1ms/step - loss: 0.2022 - accuracy: 0.9210\n",
      "Epoch 37/100\n",
      "106/106 [==============================] - 0s 1ms/step - loss: 0.1998 - accuracy: 0.9214\n",
      "Epoch 38/100\n",
      "106/106 [==============================] - 0s 1ms/step - loss: 0.1980 - accuracy: 0.9217\n",
      "Epoch 39/100\n",
      "106/106 [==============================] - 0s 1ms/step - loss: 0.1967 - accuracy: 0.9207\n",
      "Epoch 40/100\n",
      "106/106 [==============================] - 0s 1ms/step - loss: 0.1944 - accuracy: 0.9214\n",
      "Epoch 41/100\n",
      "106/106 [==============================] - 0s 1ms/step - loss: 0.1918 - accuracy: 0.9235\n",
      "Epoch 42/100\n",
      "106/106 [==============================] - 0s 1ms/step - loss: 0.1908 - accuracy: 0.9235\n",
      "Epoch 43/100\n",
      "106/106 [==============================] - 0s 1ms/step - loss: 0.1880 - accuracy: 0.9265\n",
      "Epoch 44/100\n",
      "106/106 [==============================] - 0s 1ms/step - loss: 0.1868 - accuracy: 0.9260\n",
      "Epoch 45/100\n",
      "106/106 [==============================] - 0s 1ms/step - loss: 0.1852 - accuracy: 0.9257\n",
      "Epoch 46/100\n",
      "106/106 [==============================] - 0s 1ms/step - loss: 0.1860 - accuracy: 0.9256\n",
      "Epoch 47/100\n",
      "106/106 [==============================] - 0s 1ms/step - loss: 0.1808 - accuracy: 0.9279\n",
      "Epoch 48/100\n",
      "106/106 [==============================] - 0s 1ms/step - loss: 0.1794 - accuracy: 0.9293\n",
      "Epoch 49/100\n",
      "106/106 [==============================] - 0s 1ms/step - loss: 0.1793 - accuracy: 0.9288\n",
      "Epoch 50/100\n",
      "106/106 [==============================] - 0s 1ms/step - loss: 0.1771 - accuracy: 0.9291\n",
      "Epoch 51/100\n",
      "106/106 [==============================] - 0s 1ms/step - loss: 0.1712 - accuracy: 0.9339\n",
      "Epoch 52/100\n",
      "106/106 [==============================] - 0s 1ms/step - loss: 0.1708 - accuracy: 0.9337\n",
      "Epoch 53/100\n",
      "106/106 [==============================] - 0s 1ms/step - loss: 0.1691 - accuracy: 0.9336\n",
      "Epoch 54/100\n",
      "106/106 [==============================] - 0s 1ms/step - loss: 0.1675 - accuracy: 0.9355\n",
      "Epoch 55/100\n",
      "106/106 [==============================] - 0s 1ms/step - loss: 0.1657 - accuracy: 0.9374\n",
      "Epoch 56/100\n",
      "106/106 [==============================] - 0s 1ms/step - loss: 0.1635 - accuracy: 0.9373\n",
      "Epoch 57/100\n",
      "106/106 [==============================] - 0s 1ms/step - loss: 0.1605 - accuracy: 0.9379\n",
      "Epoch 58/100\n",
      "106/106 [==============================] - 0s 1ms/step - loss: 0.1599 - accuracy: 0.9392\n",
      "Epoch 59/100\n",
      "106/106 [==============================] - 0s 1ms/step - loss: 0.1585 - accuracy: 0.9381\n",
      "Epoch 60/100\n",
      "106/106 [==============================] - 0s 1ms/step - loss: 0.1556 - accuracy: 0.9423\n",
      "Epoch 61/100\n",
      "106/106 [==============================] - 0s 1ms/step - loss: 0.1516 - accuracy: 0.9424\n",
      "Epoch 62/100\n",
      "106/106 [==============================] - 0s 1ms/step - loss: 0.1494 - accuracy: 0.9432\n",
      "Epoch 63/100\n",
      "106/106 [==============================] - 0s 1ms/step - loss: 0.1472 - accuracy: 0.9458\n",
      "Epoch 64/100\n",
      "106/106 [==============================] - 0s 1ms/step - loss: 0.1461 - accuracy: 0.9466\n",
      "Epoch 65/100\n",
      "106/106 [==============================] - 0s 1ms/step - loss: 0.1436 - accuracy: 0.9481\n",
      "Epoch 66/100\n",
      "106/106 [==============================] - 0s 1ms/step - loss: 0.1433 - accuracy: 0.9464\n",
      "Epoch 67/100\n",
      "106/106 [==============================] - 0s 1ms/step - loss: 0.1391 - accuracy: 0.9485\n",
      "Epoch 68/100\n",
      "106/106 [==============================] - 0s 1ms/step - loss: 0.1381 - accuracy: 0.9489\n",
      "Epoch 69/100\n",
      "106/106 [==============================] - 0s 1ms/step - loss: 0.1351 - accuracy: 0.9510\n",
      "Epoch 70/100\n",
      "106/106 [==============================] - 0s 1ms/step - loss: 0.1351 - accuracy: 0.9522\n",
      "Epoch 71/100\n",
      "106/106 [==============================] - 0s 1ms/step - loss: 0.1321 - accuracy: 0.9519\n",
      "Epoch 72/100\n",
      "106/106 [==============================] - 0s 1ms/step - loss: 0.1288 - accuracy: 0.9526\n",
      "Epoch 73/100\n",
      "106/106 [==============================] - 0s 1ms/step - loss: 0.1281 - accuracy: 0.9543\n",
      "Epoch 74/100\n",
      "106/106 [==============================] - 0s 1ms/step - loss: 0.1264 - accuracy: 0.9538\n",
      "Epoch 75/100\n",
      "106/106 [==============================] - 0s 1ms/step - loss: 0.1240 - accuracy: 0.9552\n",
      "Epoch 76/100\n",
      "106/106 [==============================] - 0s 1ms/step - loss: 0.1212 - accuracy: 0.9574\n",
      "Epoch 77/100\n",
      "106/106 [==============================] - 0s 2ms/step - loss: 0.1202 - accuracy: 0.9563\n",
      "Epoch 78/100\n",
      "106/106 [==============================] - 0s 1ms/step - loss: 0.1177 - accuracy: 0.9571\n",
      "Epoch 79/100\n",
      "106/106 [==============================] - 0s 1ms/step - loss: 0.1157 - accuracy: 0.9583\n",
      "Epoch 80/100\n",
      "106/106 [==============================] - 0s 1ms/step - loss: 0.1151 - accuracy: 0.9584\n",
      "Epoch 81/100\n",
      "106/106 [==============================] - 0s 1ms/step - loss: 0.1149 - accuracy: 0.9569\n",
      "Epoch 82/100\n",
      "106/106 [==============================] - 0s 1ms/step - loss: 0.1114 - accuracy: 0.9587\n",
      "Epoch 83/100\n",
      "106/106 [==============================] - 0s 1ms/step - loss: 0.1086 - accuracy: 0.9621\n",
      "Epoch 84/100\n",
      "106/106 [==============================] - 0s 1ms/step - loss: 0.1095 - accuracy: 0.9608\n",
      "Epoch 85/100\n",
      "106/106 [==============================] - 0s 1ms/step - loss: 0.1069 - accuracy: 0.9636\n",
      "Epoch 86/100\n",
      "106/106 [==============================] - 0s 2ms/step - loss: 0.1051 - accuracy: 0.9636\n",
      "Epoch 87/100\n",
      "106/106 [==============================] - 0s 1ms/step - loss: 0.1020 - accuracy: 0.9645\n",
      "Epoch 88/100\n",
      "106/106 [==============================] - 0s 1ms/step - loss: 0.1011 - accuracy: 0.9658\n",
      "Epoch 89/100\n",
      "106/106 [==============================] - 0s 1ms/step - loss: 0.1005 - accuracy: 0.9645\n",
      "Epoch 90/100\n",
      "106/106 [==============================] - 0s 1ms/step - loss: 0.0972 - accuracy: 0.9649\n",
      "Epoch 91/100\n",
      "106/106 [==============================] - 0s 1ms/step - loss: 0.0958 - accuracy: 0.9648\n",
      "Epoch 92/100\n",
      "106/106 [==============================] - 0s 1ms/step - loss: 0.0946 - accuracy: 0.9677\n",
      "Epoch 93/100\n",
      "106/106 [==============================] - 0s 1ms/step - loss: 0.0925 - accuracy: 0.9666\n",
      "Epoch 94/100\n",
      "106/106 [==============================] - 0s 1ms/step - loss: 0.0926 - accuracy: 0.9692\n",
      "Epoch 95/100\n",
      "106/106 [==============================] - 0s 1ms/step - loss: 0.0908 - accuracy: 0.9673\n",
      "Epoch 96/100\n",
      "106/106 [==============================] - 0s 1ms/step - loss: 0.0892 - accuracy: 0.9701\n",
      "Epoch 97/100\n",
      "106/106 [==============================] - 0s 1ms/step - loss: 0.0872 - accuracy: 0.9711\n",
      "Epoch 98/100\n",
      "106/106 [==============================] - 0s 2ms/step - loss: 0.0871 - accuracy: 0.9697\n",
      "Epoch 99/100\n",
      "106/106 [==============================] - 0s 1ms/step - loss: 0.0846 - accuracy: 0.9722\n",
      "Epoch 100/100\n",
      "106/106 [==============================] - 0s 1ms/step - loss: 0.0822 - accuracy: 0.9729\n"
     ]
    }
   ],
   "source": [
    "model = tf.keras.models.Sequential([\n",
    "    tf.keras.layers.Conv2D(filters = 16,\n",
    "                           strides = 1,\n",
    "                           padding = 'valid',\n",
    "                           activation = 'relu',\n",
    "                           kernel_size = (4, 1),\n",
    "                           input_shape = (120, 1, 1)\n",
    "    ),\n",
    "    tf.keras.layers.Flatten(),\n",
    "    tf.keras.layers.Dense(32, activation = 'relu'),\n",
    "    tf.keras.layers.Dense(1, activation = 'sigmoid')\n",
    "])\n",
    "\n",
    "model.compile(loss='binary_crossentropy', optimizer='adam', metrics=['accuracy'])\n",
    "\n",
    "history = model.fit(X, y, batch_size = 64, epochs = 100, verbose = 1)\n"
   ]
  },
  {
   "cell_type": "code",
   "execution_count": 105,
   "metadata": {},
   "outputs": [
    {
     "name": "stdout",
     "output_type": "stream",
     "text": [
      "Model: \"sequential_14\"\n",
      "_________________________________________________________________\n",
      " Layer (type)                Output Shape              Param #   \n",
      "=================================================================\n",
      " conv2d_14 (Conv2D)          (None, 117, 1, 16)        80        \n",
      "                                                                 \n",
      " flatten_14 (Flatten)        (None, 1872)              0         \n",
      "                                                                 \n",
      " dense_28 (Dense)            (None, 32)                59936     \n",
      "                                                                 \n",
      " dense_29 (Dense)            (None, 1)                 33        \n",
      "                                                                 \n",
      "=================================================================\n",
      "Total params: 60,049\n",
      "Trainable params: 60,049\n",
      "Non-trainable params: 0\n",
      "_________________________________________________________________\n"
     ]
    }
   ],
   "source": [
    "model.summary()"
   ]
  },
  {
   "cell_type": "code",
   "execution_count": 106,
   "metadata": {},
   "outputs": [
    {
     "name": "stdout",
     "output_type": "stream",
     "text": [
      "(120, 1)\n"
     ]
    }
   ],
   "source": [
    "print(np.shape(X[0]))"
   ]
  },
  {
   "cell_type": "code",
   "execution_count": 107,
   "metadata": {},
   "outputs": [],
   "source": [
    "df_more = pd.read_csv('Data/train_to_input_into_model.csv')\n",
    "\n",
    "x_fil = []\n",
    "button_state = []\n",
    "\n",
    "for index,row in df_more.iterrows():\n",
    "    x_fil.append(row[\"x_kalhman_filter\"])\n",
    "    button_state.append(row[\"binary break label\"])\n",
    "\n",
    "X_test = []\n",
    "y_test = []\n",
    "for i in range(120, len(x_fil)):\n",
    "    X_test.append(x_fil[i - data_len:i])\n",
    "    y_test.append(button_state[i])\n",
    "\n",
    "X_test = tf.expand_dims(X_test, axis = -1)\n"
   ]
  },
  {
   "cell_type": "code",
   "execution_count": 108,
   "metadata": {},
   "outputs": [
    {
     "name": "stdout",
     "output_type": "stream",
     "text": [
      "84/84 [==============================] - 0s 463us/step\n"
     ]
    }
   ],
   "source": [
    "predictions = model.predict(X_test)\n",
    "\n",
    "for i in range(len(predictions)):\n",
    "    if predictions[i] > 0.5:\n",
    "        predictions[i] = 1\n",
    "    else:\n",
    "        predictions[i] = 0"
   ]
  },
  {
   "cell_type": "code",
   "execution_count": 109,
   "metadata": {},
   "outputs": [
    {
     "data": {
      "text/plain": [
       "<matplotlib.legend.Legend at 0x13823bcd0>"
      ]
     },
     "execution_count": 109,
     "metadata": {},
     "output_type": "execute_result"
    },
    {
     "data": {
      "image/png": "[encoded data removed]",
      "text/plain": [
       "<Figure size 640x480 with 1 Axes>"
      ]
     },
     "metadata": {},
     "output_type": "display_data"
    }
   ],
   "source": [
    "plt.plot([x*-1 for x in predictions], label ='predictions')\n",
    "\n",
    "plt.plot(y_test,label = 'ground truth')\n",
    "plt.legend()"
   ]
  },
  {
   "cell_type": "code",
   "execution_count": 110,
   "metadata": {},
   "outputs": [
    {
     "name": "stderr",
     "output_type": "stream",
     "text": [
      "WARNING:absl:Found untraced functions such as _jit_compiled_convolution_op while saving (showing 1 of 1). These functions will not be directly callable after loading.\n"
     ]
    },
    {
     "name": "stdout",
     "output_type": "stream",
     "text": [
      "INFO:tensorflow:Assets written to: /var/folders/c4/p5wzdb355zbfj4cn_pqg03c80000gn/T/tmpf0e7d3db/assets\n"
     ]
    },
    {
     "name": "stderr",
     "output_type": "stream",
     "text": [
      "INFO:tensorflow:Assets written to: /var/folders/c4/p5wzdb355zbfj4cn_pqg03c80000gn/T/tmpf0e7d3db/assets\n",
      "2023-04-30 18:13:12.575088: W tensorflow/compiler/mlir/lite/python/tf_tfl_flatbuffer_helpers.cc:362] Ignored output_format.\n",
      "2023-04-30 18:13:12.575106: W tensorflow/compiler/mlir/lite/python/tf_tfl_flatbuffer_helpers.cc:365] Ignored drop_control_dependency.\n"
     ]
    },
    {
     "name": "stdout",
     "output_type": "stream",
     "text": [
      "Model is 242712 bytes\n"
     ]
    },
    {
     "name": "stderr",
     "output_type": "stream",
     "text": [
      "2023-04-30 18:13:12.575205: I tensorflow/cc/saved_model/reader.cc:43] Reading SavedModel from: /var/folders/c4/p5wzdb355zbfj4cn_pqg03c80000gn/T/tmpf0e7d3db\n",
      "2023-04-30 18:13:12.575937: I tensorflow/cc/saved_model/reader.cc:81] Reading meta graph with tags { serve }\n",
      "2023-04-30 18:13:12.575943: I tensorflow/cc/saved_model/reader.cc:122] Reading SavedModel debug info (if present) from: /var/folders/c4/p5wzdb355zbfj4cn_pqg03c80000gn/T/tmpf0e7d3db\n",
      "2023-04-30 18:13:12.578496: I tensorflow/cc/saved_model/loader.cc:228] Restoring SavedModel bundle.\n",
      "2023-04-30 18:13:12.606262: I tensorflow/cc/saved_model/loader.cc:212] Running initialization op on SavedModel bundle at path: /var/folders/c4/p5wzdb355zbfj4cn_pqg03c80000gn/T/tmpf0e7d3db\n",
      "2023-04-30 18:13:12.615391: I tensorflow/cc/saved_model/loader.cc:301] SavedModel load for tags { serve }; Status: success: OK. Took 40184 microseconds.\n"
     ]
    }
   ],
   "source": [
    "# Convert the model to the TensorFlow Lite format without quantization\n",
    "converter = tf.lite.TFLiteConverter.from_keras_model(model)\n",
    "tflite_model = converter.convert()\n",
    "\n",
    "# Save the model to disk\n",
    "open(\"gesture_model.tflite\", \"wb\").write(tflite_model)\n",
    "  \n",
    "import os\n",
    "basic_model_size = os.path.getsize(\"gesture_model.tflite\")\n",
    "print(\"Model is %d bytes\" % basic_model_size)"
   ]
  },
  {
   "cell_type": "code",
   "execution_count": 111,
   "metadata": {},
   "outputs": [
    {
     "name": "stdout",
     "output_type": "stream",
     "text": [
      "Header file, model.h, is 1,496,758 bytes.\n"
     ]
    }
   ],
   "source": [
    "!echo \"const unsigned char model[] = {\" > model.h\n",
    "!cat gesture_model.tflite | xxd -i      >> model.h\n",
    "!echo \"};\"                              >> model.h\n",
    "\n",
    "import os\n",
    "model_h_size = os.path.getsize(\"model.h\")\n",
    "print(f\"Header file, model.h, is {model_h_size:,} bytes.\")\n",
    "# print(\"\\nOpen the side panel (refresh if needed). Double click model.h to download the file.\")"
   ]
  },
  {
   "cell_type": "code",
   "execution_count": 94,
   "metadata": {},
   "outputs": [],
   "source": [
    "from sklearn import metrics "
   ]
  },
  {
   "cell_type": "code",
   "execution_count": 95,
   "metadata": {},
   "outputs": [],
   "source": [
    "confusion_matrix = metrics.confusion_matrix(y_test, predictions)\n",
    "\n"
   ]
  },
  {
   "cell_type": "code",
   "execution_count": 96,
   "metadata": {},
   "outputs": [],
   "source": [
    "cm_display = metrics.ConfusionMatrixDisplay(confusion_matrix = confusion_matrix, display_labels = [False, True])"
   ]
  },
  {
   "cell_type": "code",
   "execution_count": 97,
   "metadata": {},
   "outputs": [
    {
     "data": {
      "image/png": "[encoded data removed]",
      "text/plain": [
       "<Figure size 640x480 with 2 Axes>"
      ]
     },
     "metadata": {},
     "output_type": "display_data"
    }
   ],
   "source": [
    "cm_display.plot()\n",
    "plt.show()"
   ]
  },
  {
   "cell_type": "code",
   "execution_count": 116,
   "metadata": {},
   "outputs": [],
   "source": [
    "df = pd.read_csv('Data/data.csv') "
   ]
  },
  {
   "cell_type": "code",
   "execution_count": 117,
   "metadata": {},
   "outputs": [],
   "source": [
    "for index, row in df.iterrows():\n",
    "    if row[\"button_state\"] <= 100:\n",
    "        row[\"button_state\"] = int(1)\n",
    "    else:\n",
    "        row[\"button_state\"] = int(0)"
   ]
  },
  {
   "cell_type": "code",
   "execution_count": null,
   "metadata": {},
   "outputs": [],
   "source": [
    "X_test = []\n",
    "\n",
    "for index, row in df.iterrows():\n",
    "    "
   ]
  }
 ],
 "metadata": {
  "kernelspec": {
   "display_name": "Python 3",
   "language": "python",
   "name": "python3"
  },
  "language_info": {
   "codemirror_mode": {
    "name": "ipython",
    "version": 3
   },
   "file_extension": ".py",
   "mimetype": "text/x-python",
   "name": "python",
   "nbconvert_exporter": "python",
   "pygments_lexer": "ipython3",
   "version": "3.9.16"
  },
  "orig_nbformat": 4
 },
 "nbformat": 4,
 "nbformat_minor": 2
}
